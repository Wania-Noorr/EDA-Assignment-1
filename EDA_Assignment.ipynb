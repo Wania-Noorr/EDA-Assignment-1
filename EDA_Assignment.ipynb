{
  "nbformat": 4,
  "nbformat_minor": 0,
  "metadata": {
    "colab": {
      "provenance": [],
      "toc_visible": true
    },
    "kernelspec": {
      "name": "python3",
      "display_name": "Python 3"
    },
    "language_info": {
      "name": "python"
    }
  },
  "cells": [
    {
      "cell_type": "markdown",
      "source": [
        "# **EDA of E-commerce Customer Behavior**"
      ],
      "metadata": {
        "id": "sGi7IOwKLi6x"
      }
    },
    {
      "cell_type": "markdown",
      "source": [
        "Conduct an exploratory data analysis (EDA) on the given E-commerce Customer Behavior. Focus on customer behavior, purchase trends, and satisfaction levels using Python libraries: Pandas, Numpy, Matplotlib, and Seaborn."
      ],
      "metadata": {
        "id": "bssKlApPLshq"
      }
    },
    {
      "cell_type": "markdown",
      "source": [
        "## Dataset Overview:\n",
        "\n",
        "- **CustomerID:** Unique identifier for each customer.\n",
        "- **Gender:** Gender of the customer.\n",
        "- **Age:** Age of the customer.\n",
        "- **City:** City where the customer resides.\n",
        "- **Membership Type:** Type of customer membership (Gold, Silver, Bronze).\n",
        "- **Total Spend:** Total amount spent by the customer.\n",
        "- **Items Purchased:** Number of items purchased.\n",
        "- **Average Rating:** Average rating given by the customer.\n",
        "- **Discount Applied:** Whether a discount was applied (True/False).\n",
        "- **Days Since Last Purchase:** Number of days since the customer’s last purchase.\n",
        "- **Satisfaction Level:** Customer's satisfaction level (Satisfied, Neutral, Unsatisfied)."
      ],
      "metadata": {
        "id": "4vzKNF3xL0wn"
      }
    },
    {
      "cell_type": "markdown",
      "source": [
        "## **Task**"
      ],
      "metadata": {
        "id": "0wpzanktMR1v"
      }
    },
    {
      "cell_type": "markdown",
      "source": [
        "### **Data Exploration**\n",
        "\n",
        "Explore the dataset to get a general understanding of the data.\n",
        "\n",
        "- Load the dataset using Pandas.\n",
        "- Print the first 10 rows of the dataset.\n",
        "- Display Statistical Summary. (show the summary for object data columns separately)\n",
        "- Get the information, data types of all columns and the shape of the dataset (number of rows and columns).\n",
        "- Display only Data types\n",
        "\n",
        "(5 points)"
      ],
      "metadata": {
        "id": "hQygnkYFMObs"
      }
    },
    {
      "cell_type": "code",
      "source": [],
      "metadata": {
        "id": "aCIoh8wymsAs"
      },
      "execution_count": null,
      "outputs": []
    },
    {
      "cell_type": "code",
      "source": [],
      "metadata": {
        "id": "UUsGnJwmmr4G"
      },
      "execution_count": null,
      "outputs": []
    },
    {
      "cell_type": "code",
      "source": [],
      "metadata": {
        "id": "WKEzGzzZmuGX"
      },
      "execution_count": null,
      "outputs": []
    },
    {
      "cell_type": "code",
      "source": [],
      "metadata": {
        "id": "exqpF0fZmtyf"
      },
      "execution_count": null,
      "outputs": []
    },
    {
      "cell_type": "code",
      "source": [],
      "metadata": {
        "id": "cWu5ri4NmtoL"
      },
      "execution_count": null,
      "outputs": []
    },
    {
      "cell_type": "markdown",
      "source": [
        "### **Handling Missing Values**\n",
        "Identify and deal with any missing data.\n",
        "\n",
        "- Check for missing values in the dataset.\n",
        "- If missing values exist, Show the rows with missing values.\n",
        "- If missing values exist, Decide whether to fill them (using the mean, median, etc.) or drop them and justify your choice.\n",
        "\n",
        "\n",
        "(3 Points)"
      ],
      "metadata": {
        "id": "xWc9VhTpNzjg"
      }
    },
    {
      "cell_type": "code",
      "source": [],
      "metadata": {
        "id": "Mai5aWWNmvF4"
      },
      "execution_count": null,
      "outputs": []
    },
    {
      "cell_type": "code",
      "source": [],
      "metadata": {
        "id": "gs6wHwz-mu97"
      },
      "execution_count": null,
      "outputs": []
    },
    {
      "cell_type": "code",
      "source": [],
      "metadata": {
        "id": "xShj45ixmu3O"
      },
      "execution_count": null,
      "outputs": []
    },
    {
      "cell_type": "markdown",
      "source": [
        "### **Duplicates**\n",
        "\n",
        "- Check for duplicate records in the dataset. If duplicates exist, remove them.\n",
        "\n",
        "(1 Point)"
      ],
      "metadata": {
        "id": "q6RS80jxQm64"
      }
    },
    {
      "cell_type": "code",
      "source": [],
      "metadata": {
        "id": "md2aGlB2mxRO"
      },
      "execution_count": null,
      "outputs": []
    },
    {
      "cell_type": "markdown",
      "source": [
        "### **Conditional Filtering**\n",
        "Filter data based on specific conditions.\n",
        "\n",
        "- How many customers have the Gold membership type?\n",
        "- Filter and display customers who spent more than $1,000.\n",
        "- Identify customers from New York who applied a discount.\n",
        "\n",
        "( 3 points)"
      ],
      "metadata": {
        "id": "Q6O9vfyOTx28"
      }
    },
    {
      "cell_type": "code",
      "source": [],
      "metadata": {
        "id": "8XzQVU7lmyUV"
      },
      "execution_count": null,
      "outputs": []
    },
    {
      "cell_type": "code",
      "source": [],
      "metadata": {
        "id": "yWLC2WkamyMB"
      },
      "execution_count": null,
      "outputs": []
    },
    {
      "cell_type": "code",
      "source": [],
      "metadata": {
        "id": "nXxFZ7oGmyGG"
      },
      "execution_count": null,
      "outputs": []
    },
    {
      "cell_type": "markdown",
      "source": [
        "### **Analysis**\n",
        "\n",
        "\n",
        " ( Hint: Group by, conditional filtering, Visualization )"
      ],
      "metadata": {
        "id": "DrhGPTmuhux0"
      }
    },
    {
      "cell_type": "markdown",
      "source": [
        "##### Which membership type shows the highest total spending in the dataset?  (2 Points)"
      ],
      "metadata": {
        "id": "sveHItR8fzCF"
      }
    },
    {
      "cell_type": "code",
      "source": [],
      "metadata": {
        "id": "pAVygGE0m7S8"
      },
      "execution_count": null,
      "outputs": []
    },
    {
      "cell_type": "code",
      "source": [],
      "metadata": {
        "id": "eyZIiC68m0ys"
      },
      "execution_count": null,
      "outputs": []
    },
    {
      "cell_type": "markdown",
      "source": [
        "#### How does customer satisfaction impact total spending across different membership types? Which membership type spends more based on satisfaction levels? (2 Points)"
      ],
      "metadata": {
        "id": "XnUuk59JhepC"
      }
    },
    {
      "cell_type": "code",
      "source": [],
      "metadata": {
        "id": "pXms3wNnm6xa"
      },
      "execution_count": null,
      "outputs": []
    },
    {
      "cell_type": "code",
      "source": [],
      "metadata": {
        "id": "L7KPBxo0nEoP"
      },
      "execution_count": null,
      "outputs": []
    },
    {
      "cell_type": "code",
      "source": [],
      "metadata": {
        "id": "ZyRmNvS0nEfv"
      },
      "execution_count": null,
      "outputs": []
    },
    {
      "cell_type": "markdown",
      "source": [
        "#### What is the average rating for customers who applied discounts, and does the membership type have any effect on the ratings? (2 points)"
      ],
      "metadata": {
        "id": "qGpwlmFFhlc2"
      }
    },
    {
      "cell_type": "code",
      "source": [],
      "metadata": {
        "id": "m4oUR3ixnFvT"
      },
      "execution_count": null,
      "outputs": []
    },
    {
      "cell_type": "code",
      "source": [],
      "metadata": {
        "id": "vCIrlxdrnFnk"
      },
      "execution_count": null,
      "outputs": []
    },
    {
      "cell_type": "code",
      "source": [],
      "metadata": {
        "id": "POjXE3kZnFh9"
      },
      "execution_count": null,
      "outputs": []
    },
    {
      "cell_type": "markdown",
      "source": [
        "#### Analyze the Impact of Days Since Last Purchase on Satisfaction Level (2 Points)"
      ],
      "metadata": {
        "id": "SDpolMEdlFwE"
      }
    },
    {
      "cell_type": "code",
      "source": [],
      "metadata": {
        "id": "BtEcrnVSnG6c"
      },
      "execution_count": null,
      "outputs": []
    },
    {
      "cell_type": "code",
      "source": [],
      "metadata": {
        "id": "NfYqxWZ8nG3C"
      },
      "execution_count": null,
      "outputs": []
    },
    {
      "cell_type": "code",
      "source": [],
      "metadata": {
        "id": "SkdKFTvold6L"
      },
      "execution_count": null,
      "outputs": []
    }
  ]
}